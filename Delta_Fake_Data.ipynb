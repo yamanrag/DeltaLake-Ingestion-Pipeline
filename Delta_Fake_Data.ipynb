{
 "cells": [
  {
   "cell_type": "code",
   "execution_count": 0,
   "metadata": {
    "application/vnd.databricks.v1+cell": {
     "cellMetadata": {
      "byteLimit": 2048000,
      "rowLimit": 10000
     },
     "inputWidgets": {},
     "nuid": "a6850fff-e99b-46f9-8de4-bfb1ff64cfcb",
     "showTitle": false,
     "tableResultSettingsMap": {},
     "title": ""
    }
   },
   "outputs": [
    {
     "output_type": "stream",
     "name": "stdout",
     "output_type": "stream",
     "text": [
      "Requirement already satisfied: faker in /local_disk0/.ephemeral_nfs/envs/pythonEnv-f6d48caa-d040-41ca-b82e-b51f90371dff/lib/python3.11/site-packages (37.4.0)\nRequirement already satisfied: tzdata in /databricks/python3/lib/python3.11/site-packages (from faker) (2022.1)\n\u001B[43mNote: you may need to restart the kernel using %restart_python or dbutils.library.restartPython() to use updated packages.\u001B[0m\n"
     ]
    }
   ],
   "source": [
    "%pip install faker"
   ]
  },
  {
   "cell_type": "code",
   "execution_count": 0,
   "metadata": {
    "application/vnd.databricks.v1+cell": {
     "cellMetadata": {
      "byteLimit": 2048000,
      "rowLimit": 10000
     },
     "inputWidgets": {},
     "nuid": "ba2ef719-8cf7-4632-8c5f-212a69fa155c",
     "showTitle": false,
     "tableResultSettingsMap": {},
     "title": ""
    }
   },
   "outputs": [
    {
     "output_type": "stream",
     "name": "stdout",
     "output_type": "stream",
     "text": [
      "+----------------+--------------------+--------------------+\n|            Name|             Address|               Email|\n+----------------+--------------------+--------------------+\n| Scott Henderson|2737 Jesus Union ...|walshtiffany@exam...|\n|Jeffrey Gonzales|PSC 2459, Box 972...|ymontgomery@examp...|\n|   Alison Morris|0705 Wheeler Ligh...|matthew44@example...|\n|    Misty Barron|71537 Powell Driv...|petersonjason@exa...|\n|      Robert Ray|29501 Valdez Mead...|nelsonsteve@examp...|\n| Lawrence Flores|1735 Timothy Exte...| dmurphy@example.com|\n|    Jordan Baker|37027 Jackson Ter...|christophergarcia...|\n|   Dustin Miller|60443 Luke Roads ...|nicholas46@exampl...|\n|  Jenna Stephens|372 Sarah Light A...|paulchristensen@e...|\n|Suzanne Gonzalez|442 Rachel Lane\\n...|georgelester@exam...|\n+----------------+--------------------+--------------------+\n\n"
     ]
    }
   ],
   "source": [
    "from faker import Faker\n",
    "import pandas as pd\n",
    "\n",
    "fake = Faker()\n",
    "data = [{\n",
    "    \"Name\": fake.name(),\n",
    "    \"Address\": fake.address(),\n",
    "    \"Email\": fake.email()\n",
    "} for _ in range(10)]\n",
    "\n",
    "df = pd.DataFrame(data)\n",
    "df_spark = spark.createDataFrame(df)\n",
    "df_spark.show()"
   ]
  },
  {
   "cell_type": "code",
   "execution_count": 0,
   "metadata": {
    "application/vnd.databricks.v1+cell": {
     "cellMetadata": {
      "byteLimit": 2048000,
      "rowLimit": 10000
     },
     "inputWidgets": {},
     "nuid": "b4bde27e-01e1-444f-ad67-e4d0e69130c2",
     "showTitle": false,
     "tableResultSettingsMap": {},
     "title": ""
    }
   },
   "outputs": [],
   "source": [
    "delta_path = \"/tmp/fake_data_delta\""
   ]
  },
  {
   "cell_type": "code",
   "execution_count": 0,
   "metadata": {
    "application/vnd.databricks.v1+cell": {
     "cellMetadata": {
      "byteLimit": 2048000,
      "rowLimit": 10000
     },
     "inputWidgets": {},
     "nuid": "3198666c-ffbf-4217-9ba0-0b02b70ead32",
     "showTitle": false,
     "tableResultSettingsMap": {},
     "title": ""
    }
   },
   "outputs": [],
   "source": [
    "# Save as a Delta Table (managed table)\n",
    "df_spark.write.format(\"delta\").mode(\"overwrite\").saveAsTable(\"fake_data_delta\")"
   ]
  },
  {
   "cell_type": "code",
   "execution_count": 0,
   "metadata": {
    "application/vnd.databricks.v1+cell": {
     "cellMetadata": {
      "byteLimit": 2048000,
      "rowLimit": 10000
     },
     "inputWidgets": {},
     "nuid": "96fa7659-939b-4792-b81f-e6df77b4b9f9",
     "showTitle": false,
     "tableResultSettingsMap": {},
     "title": ""
    }
   },
   "outputs": [
    {
     "output_type": "stream",
     "name": "stdout",
     "output_type": "stream",
     "text": [
      "+----------------+----------------------------------------------------------+-----------------------------+------------------+\n|Name            |Address                                                   |Email                        |Inserted_Timestamp|\n+----------------+----------------------------------------------------------+-----------------------------+------------------+\n|Scott Henderson |2737 Jesus Union Apt. 016\\nEast Lancefort, NE 77931       |walshtiffany@example.net     |NULL              |\n|Jeffrey Gonzales|PSC 2459, Box 9725\\nAPO AP 53228                          |ymontgomery@example.net      |NULL              |\n|Alison Morris   |0705 Wheeler Lights Suite 506\\nLake Theresashire, RI 61825|matthew44@example.com        |NULL              |\n|Misty Barron    |71537 Powell Drive Apt. 565\\nEast Jamesborough, WV 29768  |petersonjason@example.com    |NULL              |\n|Robert Ray      |29501 Valdez Meadows\\nNew Renee, WI 27169                 |nelsonsteve@example.com      |NULL              |\n|Lawrence Flores |1735 Timothy Extension Suite 228\\nChristianburgh, VI 33464|dmurphy@example.com          |NULL              |\n|Jordan Baker    |37027 Jackson Terrace\\nBlackwellfurt, DE 43505            |christophergarcia@example.org|NULL              |\n|Dustin Miller   |60443 Luke Roads Suite 101\\nTeresatown, GU 71393          |nicholas46@example.com       |NULL              |\n|Jenna Stephens  |372 Sarah Light Apt. 592\\nRickyport, TX 12219             |paulchristensen@example.net  |NULL              |\n|Suzanne Gonzalez|442 Rachel Lane\\nJillianport, WI 58134                    |georgelester@example.net     |NULL              |\n+----------------+----------------------------------------------------------+-----------------------------+------------------+\n\n"
     ]
    }
   ],
   "source": [
    "from delta.tables import DeltaTable\n",
    "\n",
    "delta_table = DeltaTable.forName(spark, \"fake_data_delta\")\n",
    "delta_table.toDF().show(truncate=False)"
   ]
  },
  {
   "cell_type": "code",
   "execution_count": 0,
   "metadata": {
    "application/vnd.databricks.v1+cell": {
     "cellMetadata": {
      "byteLimit": 2048000,
      "rowLimit": 10000
     },
     "inputWidgets": {},
     "nuid": "632d119e-90c6-4dea-a9ba-60a703acb444",
     "showTitle": false,
     "tableResultSettingsMap": {},
     "title": ""
    }
   },
   "outputs": [],
   "source": [
    "df_spark.write.format(\"delta\").mode(\"append\").saveAsTable(\"fake_data_delta\")"
   ]
  },
  {
   "cell_type": "code",
   "execution_count": 0,
   "metadata": {
    "application/vnd.databricks.v1+cell": {
     "cellMetadata": {
      "byteLimit": 2048000,
      "rowLimit": 10000
     },
     "inputWidgets": {},
     "nuid": "7bad514c-52bb-4850-9e70-1b66d4e9ac65",
     "showTitle": false,
     "tableResultSettingsMap": {},
     "title": ""
    }
   },
   "outputs": [
    {
     "output_type": "stream",
     "name": "stdout",
     "output_type": "stream",
     "text": [
      "+----------------+----------------------------------------------------------+-----------------------------+------------------+\n|Name            |Address                                                   |Email                        |Inserted_Timestamp|\n+----------------+----------------------------------------------------------+-----------------------------+------------------+\n|Scott Henderson |2737 Jesus Union Apt. 016\\nEast Lancefort, NE 77931       |walshtiffany@example.net     |NULL              |\n|Jeffrey Gonzales|PSC 2459, Box 9725\\nAPO AP 53228                          |ymontgomery@example.net      |NULL              |\n|Alison Morris   |0705 Wheeler Lights Suite 506\\nLake Theresashire, RI 61825|matthew44@example.com        |NULL              |\n|Misty Barron    |71537 Powell Drive Apt. 565\\nEast Jamesborough, WV 29768  |petersonjason@example.com    |NULL              |\n|Robert Ray      |29501 Valdez Meadows\\nNew Renee, WI 27169                 |nelsonsteve@example.com      |NULL              |\n|Lawrence Flores |1735 Timothy Extension Suite 228\\nChristianburgh, VI 33464|dmurphy@example.com          |NULL              |\n|Jordan Baker    |37027 Jackson Terrace\\nBlackwellfurt, DE 43505            |christophergarcia@example.org|NULL              |\n|Dustin Miller   |60443 Luke Roads Suite 101\\nTeresatown, GU 71393          |nicholas46@example.com       |NULL              |\n|Jenna Stephens  |372 Sarah Light Apt. 592\\nRickyport, TX 12219             |paulchristensen@example.net  |NULL              |\n|Suzanne Gonzalez|442 Rachel Lane\\nJillianport, WI 58134                    |georgelester@example.net     |NULL              |\n|Scott Henderson |2737 Jesus Union Apt. 016\\nEast Lancefort, NE 77931       |walshtiffany@example.net     |NULL              |\n|Jeffrey Gonzales|PSC 2459, Box 9725\\nAPO AP 53228                          |ymontgomery@example.net      |NULL              |\n|Alison Morris   |0705 Wheeler Lights Suite 506\\nLake Theresashire, RI 61825|matthew44@example.com        |NULL              |\n|Misty Barron    |71537 Powell Drive Apt. 565\\nEast Jamesborough, WV 29768  |petersonjason@example.com    |NULL              |\n|Robert Ray      |29501 Valdez Meadows\\nNew Renee, WI 27169                 |nelsonsteve@example.com      |NULL              |\n|Lawrence Flores |1735 Timothy Extension Suite 228\\nChristianburgh, VI 33464|dmurphy@example.com          |NULL              |\n|Jordan Baker    |37027 Jackson Terrace\\nBlackwellfurt, DE 43505            |christophergarcia@example.org|NULL              |\n|Dustin Miller   |60443 Luke Roads Suite 101\\nTeresatown, GU 71393          |nicholas46@example.com       |NULL              |\n|Jenna Stephens  |372 Sarah Light Apt. 592\\nRickyport, TX 12219             |paulchristensen@example.net  |NULL              |\n|Suzanne Gonzalez|442 Rachel Lane\\nJillianport, WI 58134                    |georgelester@example.net     |NULL              |\n+----------------+----------------------------------------------------------+-----------------------------+------------------+\n\n"
     ]
    }
   ],
   "source": [
    "from delta.tables import DeltaTable\n",
    "\n",
    "# Load the Delta Table\n",
    "delta_table = DeltaTable.forName(spark, \"fake_data_delta\")\n",
    "\n",
    "# Show latest contents\n",
    "delta_table.toDF().show(truncate=False)"
   ]
  },
  {
   "cell_type": "code",
   "execution_count": 0,
   "metadata": {
    "application/vnd.databricks.v1+cell": {
     "cellMetadata": {
      "byteLimit": 2048000,
      "rowLimit": 10000
     },
     "inputWidgets": {},
     "nuid": "383796e8-377f-47d3-a6d9-5a2ded5cfa94",
     "showTitle": false,
     "tableResultSettingsMap": {},
     "title": ""
    }
   },
   "outputs": [],
   "source": [
    "from faker import Faker\n",
    "import pandas as pd\n",
    "from datetime import datetime\n",
    "from pyspark.sql.functions import current_timestamp\n",
    "\n",
    "fake = Faker()\n",
    "\n",
    "def append_fake_data(n_rows=5):\n",
    "    data = [{\n",
    "        \"Name\": fake.name(),\n",
    "        \"Address\": fake.address(),\n",
    "        \"Email\": fake.email()\n",
    "    } for _ in range(n_rows)]\n",
    "\n",
    "    df = pd.DataFrame(data)\n",
    "    df_spark = spark.createDataFrame(df)\n",
    "\n",
    "    # ✅ Safe way: Only add Inserted_Timestamp if not already present\n",
    "    if \"Inserted_Timestamp\" not in df_spark.columns:\n",
    "        df_spark = df_spark.withColumn(\"Inserted_Timestamp\", current_timestamp())\n",
    "\n",
    "    # Append to Delta Table\n",
    "    df_spark.write.format(\"delta\").mode(\"append\").saveAsTable(\"fake_data_delta\")\n",
    "    print(f\"{n_rows} fake rows appended at {datetime.now().strftime('%Y-%m-%d %H:%M:%S')}\")"
   ]
  },
  {
   "cell_type": "code",
   "execution_count": 0,
   "metadata": {
    "application/vnd.databricks.v1+cell": {
     "cellMetadata": {
      "byteLimit": 2048000,
      "rowLimit": 10000
     },
     "inputWidgets": {},
     "nuid": "ddd444d0-29de-4a40-82b9-b2528a7fbd69",
     "showTitle": false,
     "tableResultSettingsMap": {},
     "title": ""
    }
   },
   "outputs": [
    {
     "output_type": "stream",
     "name": "stdout",
     "output_type": "stream",
     "text": [
      "root\n |-- Name: string (nullable = true)\n |-- Address: string (nullable = true)\n |-- Email: string (nullable = true)\n |-- Inserted_Timestamp: timestamp (nullable = true)\n\n"
     ]
    }
   ],
   "source": [
    "# Show current Delta table schema\n",
    "delta_table.toDF().printSchema()"
   ]
  },
  {
   "cell_type": "code",
   "execution_count": 0,
   "metadata": {
    "application/vnd.databricks.v1+cell": {
     "cellMetadata": {
      "byteLimit": 2048000,
      "rowLimit": 10000
     },
     "inputWidgets": {},
     "nuid": "60ebff77-bbdc-4bfe-82b5-5bb17d45b45a",
     "showTitle": false,
     "tableResultSettingsMap": {},
     "title": ""
    }
   },
   "outputs": [
    {
     "output_type": "stream",
     "name": "stdout",
     "output_type": "stream",
     "text": [
      "+----------------+----------------------------------------------------------+-----------------------------+------------------+\n|Name            |Address                                                   |Email                        |Inserted_Timestamp|\n+----------------+----------------------------------------------------------+-----------------------------+------------------+\n|Alison Morris   |0705 Wheeler Lights Suite 506\\nLake Theresashire, RI 61825|matthew44@example.com        |NULL              |\n|Dustin Miller   |60443 Luke Roads Suite 101\\nTeresatown, GU 71393          |nicholas46@example.com       |NULL              |\n|Scott Henderson |2737 Jesus Union Apt. 016\\nEast Lancefort, NE 77931       |walshtiffany@example.net     |NULL              |\n|Misty Barron    |71537 Powell Drive Apt. 565\\nEast Jamesborough, WV 29768  |petersonjason@example.com    |NULL              |\n|Jenna Stephens  |372 Sarah Light Apt. 592\\nRickyport, TX 12219             |paulchristensen@example.net  |NULL              |\n|Jordan Baker    |37027 Jackson Terrace\\nBlackwellfurt, DE 43505            |christophergarcia@example.org|NULL              |\n|Suzanne Gonzalez|442 Rachel Lane\\nJillianport, WI 58134                    |georgelester@example.net     |NULL              |\n|Robert Ray      |29501 Valdez Meadows\\nNew Renee, WI 27169                 |nelsonsteve@example.com      |NULL              |\n|Alison Morris   |0705 Wheeler Lights Suite 506\\nLake Theresashire, RI 61825|matthew44@example.com        |NULL              |\n|Misty Barron    |71537 Powell Drive Apt. 565\\nEast Jamesborough, WV 29768  |petersonjason@example.com    |NULL              |\n|Lawrence Flores |1735 Timothy Extension Suite 228\\nChristianburgh, VI 33464|dmurphy@example.com          |NULL              |\n|Robert Ray      |29501 Valdez Meadows\\nNew Renee, WI 27169                 |nelsonsteve@example.com      |NULL              |\n|Jeffrey Gonzales|PSC 2459, Box 9725\\nAPO AP 53228                          |ymontgomery@example.net      |NULL              |\n|Lawrence Flores |1735 Timothy Extension Suite 228\\nChristianburgh, VI 33464|dmurphy@example.com          |NULL              |\n|Jenna Stephens  |372 Sarah Light Apt. 592\\nRickyport, TX 12219             |paulchristensen@example.net  |NULL              |\n|Scott Henderson |2737 Jesus Union Apt. 016\\nEast Lancefort, NE 77931       |walshtiffany@example.net     |NULL              |\n|Dustin Miller   |60443 Luke Roads Suite 101\\nTeresatown, GU 71393          |nicholas46@example.com       |NULL              |\n|Jeffrey Gonzales|PSC 2459, Box 9725\\nAPO AP 53228                          |ymontgomery@example.net      |NULL              |\n|Jordan Baker    |37027 Jackson Terrace\\nBlackwellfurt, DE 43505            |christophergarcia@example.org|NULL              |\n|Suzanne Gonzalez|442 Rachel Lane\\nJillianport, WI 58134                    |georgelester@example.net     |NULL              |\n+----------------+----------------------------------------------------------+-----------------------------+------------------+\n\n"
     ]
    }
   ],
   "source": [
    "from delta.tables import DeltaTable\n",
    "\n",
    "delta_table = DeltaTable.forName(spark, \"fake_data_delta\")\n",
    "delta_table.toDF().orderBy(\"Inserted_Timestamp\", ascending=False).show(truncate=False)"
   ]
  },
  {
   "cell_type": "code",
   "execution_count": 0,
   "metadata": {
    "application/vnd.databricks.v1+cell": {
     "cellMetadata": {
      "byteLimit": 2048000,
      "rowLimit": 10000
     },
     "inputWidgets": {},
     "nuid": "a5f268da-5d40-45ca-866c-4458a2f47baf",
     "showTitle": false,
     "tableResultSettingsMap": {},
     "title": ""
    }
   },
   "outputs": [],
   "source": [
    "spark.conf.set(\"spark.sql.session.timeZone\", \"Asia/Kolkata\")"
   ]
  },
  {
   "cell_type": "code",
   "execution_count": 0,
   "metadata": {
    "application/vnd.databricks.v1+cell": {
     "cellMetadata": {
      "byteLimit": 2048000,
      "rowLimit": 10000
     },
     "inputWidgets": {},
     "nuid": "38f1ba8b-7b49-4758-a854-c66e739eac88",
     "showTitle": false,
     "tableResultSettingsMap": {},
     "title": ""
    }
   },
   "outputs": [
    {
     "output_type": "stream",
     "name": "stdout",
     "output_type": "stream",
     "text": [
      "+-------+-------------------+---------------------------------+\n|version|timestamp          |operation                        |\n+-------+-------------------+---------------------------------+\n|3      |2025-07-10 18:25:43|WRITE                            |\n|2      |2025-07-10 18:25:36|CREATE OR REPLACE TABLE AS SELECT|\n|1      |2025-07-10 18:25:04|WRITE                            |\n|0      |2025-07-10 18:24:08|CREATE OR REPLACE TABLE AS SELECT|\n+-------+-------------------+---------------------------------+\n\n"
     ]
    }
   ],
   "source": [
    "delta_table.history().select(\"version\", \"timestamp\", \"operation\").show(truncate=False)"
   ]
  },
  {
   "cell_type": "code",
   "execution_count": 0,
   "metadata": {
    "application/vnd.databricks.v1+cell": {
     "cellMetadata": {
      "byteLimit": 2048000,
      "rowLimit": 10000
     },
     "inputWidgets": {},
     "nuid": "7737fb6f-fdc2-47a0-abd3-26ad6854c492",
     "showTitle": false,
     "tableResultSettingsMap": {},
     "title": ""
    }
   },
   "outputs": [
    {
     "output_type": "stream",
     "name": "stdout",
     "output_type": "stream",
     "text": [
      "+-------------+--------------------------------------------------------+----------------------------+--------------------------+\n|Name         |Address                                                 |Email                       |Inserted_Timestamp        |\n+-------------+--------------------------------------------------------+----------------------------+--------------------------+\n|Robert Martin|PSC 7915, Box 3886\\nAPO AE 76782                        |dferguson@example.org       |2025-07-10 18:24:06.386051|\n|Megan Potter |16950 Emma Run\\nLake Kennethside, WI 80137              |avilamatthew@example.net    |2025-07-10 18:24:06.386051|\n|Matthew Park |0317 Archer Junctions\\nBeardhaven, NY 32943             |wsmith@example.com          |2025-07-10 18:24:06.386051|\n|Cesar Edwards|12042 Moore Forges Suite 813\\nNew Jessica, MH 75448     |katherineellison@example.org|2025-07-10 18:24:06.386051|\n|Megan Davis  |3808 Michael Brooks Apt. 811\\nNorth Donaldland, WA 60019|freemanjames@example.com    |2025-07-10 18:24:06.386051|\n+-------------+--------------------------------------------------------+----------------------------+--------------------------+\n\n"
     ]
    }
   ],
   "source": [
    "spark.read.format(\"delta\").option(\"versionAsOf\", 0).table(\"fake_data_delta\").show(truncate=False)"
   ]
  },
  {
   "cell_type": "code",
   "execution_count": 0,
   "metadata": {
    "application/vnd.databricks.v1+cell": {
     "cellMetadata": {
      "byteLimit": 2048000,
      "rowLimit": 10000
     },
     "inputWidgets": {},
     "nuid": "635cd1e7-92eb-4ce2-86fe-d33fb710ff86",
     "showTitle": false,
     "tableResultSettingsMap": {},
     "title": ""
    }
   },
   "outputs": [
    {
     "output_type": "stream",
     "name": "stdout",
     "output_type": "stream",
     "text": [
      "+----------------+----------------------------------------------------------+-----------------------------+------------------+\n|Name            |Address                                                   |Email                        |Inserted_Timestamp|\n+----------------+----------------------------------------------------------+-----------------------------+------------------+\n|Alison Morris   |0705 Wheeler Lights Suite 506\\nLake Theresashire, RI 61825|matthew44@example.com        |NULL              |\n|Dustin Miller   |60443 Luke Roads Suite 101\\nTeresatown, GU 71393          |nicholas46@example.com       |NULL              |\n|Scott Henderson |2737 Jesus Union Apt. 016\\nEast Lancefort, NE 77931       |walshtiffany@example.net     |NULL              |\n|Misty Barron    |71537 Powell Drive Apt. 565\\nEast Jamesborough, WV 29768  |petersonjason@example.com    |NULL              |\n|Jenna Stephens  |372 Sarah Light Apt. 592\\nRickyport, TX 12219             |paulchristensen@example.net  |NULL              |\n|Jordan Baker    |37027 Jackson Terrace\\nBlackwellfurt, DE 43505            |christophergarcia@example.org|NULL              |\n|Suzanne Gonzalez|442 Rachel Lane\\nJillianport, WI 58134                    |georgelester@example.net     |NULL              |\n|Robert Ray      |29501 Valdez Meadows\\nNew Renee, WI 27169                 |nelsonsteve@example.com      |NULL              |\n|Alison Morris   |0705 Wheeler Lights Suite 506\\nLake Theresashire, RI 61825|matthew44@example.com        |NULL              |\n|Misty Barron    |71537 Powell Drive Apt. 565\\nEast Jamesborough, WV 29768  |petersonjason@example.com    |NULL              |\n|Lawrence Flores |1735 Timothy Extension Suite 228\\nChristianburgh, VI 33464|dmurphy@example.com          |NULL              |\n|Robert Ray      |29501 Valdez Meadows\\nNew Renee, WI 27169                 |nelsonsteve@example.com      |NULL              |\n|Jeffrey Gonzales|PSC 2459, Box 9725\\nAPO AP 53228                          |ymontgomery@example.net      |NULL              |\n|Lawrence Flores |1735 Timothy Extension Suite 228\\nChristianburgh, VI 33464|dmurphy@example.com          |NULL              |\n|Jenna Stephens  |372 Sarah Light Apt. 592\\nRickyport, TX 12219             |paulchristensen@example.net  |NULL              |\n|Scott Henderson |2737 Jesus Union Apt. 016\\nEast Lancefort, NE 77931       |walshtiffany@example.net     |NULL              |\n|Dustin Miller   |60443 Luke Roads Suite 101\\nTeresatown, GU 71393          |nicholas46@example.com       |NULL              |\n|Jeffrey Gonzales|PSC 2459, Box 9725\\nAPO AP 53228                          |ymontgomery@example.net      |NULL              |\n|Jordan Baker    |37027 Jackson Terrace\\nBlackwellfurt, DE 43505            |christophergarcia@example.org|NULL              |\n|Suzanne Gonzalez|442 Rachel Lane\\nJillianport, WI 58134                    |georgelester@example.net     |NULL              |\n+----------------+----------------------------------------------------------+-----------------------------+------------------+\n\n"
     ]
    }
   ],
   "source": [
    "delta_table.toDF().orderBy(\"Inserted_Timestamp\", ascending=False).show(truncate=False)"
   ]
  },
  {
   "cell_type": "code",
   "execution_count": 0,
   "metadata": {
    "application/vnd.databricks.v1+cell": {
     "cellMetadata": {
      "byteLimit": 2048000,
      "rowLimit": 10000
     },
     "inputWidgets": {},
     "nuid": "c1277032-9343-400a-9f51-6f0b667b8ae9",
     "showTitle": false,
     "tableResultSettingsMap": {},
     "title": ""
    }
   },
   "outputs": [
    {
     "output_type": "stream",
     "name": "stdout",
     "output_type": "stream",
     "text": [
      "✅ Email sent!\n"
     ]
    }
   ],
   "source": [
    "# Step 1: Email config\n",
    "import smtplib\n",
    "from email.mime.multipart import MIMEMultipart\n",
    "from email.mime.text import MIMEText\n",
    "\n",
    "sender_email = \"yamanrag.prakash@gmail.com\"\n",
    "receiver_email = \"yamanrag.prakash@gmail.com\"\n",
    "app_password = \"onux xfoi eklo thco\"  # Gmail App Password\n",
    "\n",
    "# Step 2: Email send function\n",
    "def send_email(subject, html_table):\n",
    "    msg = MIMEMultipart()\n",
    "    msg['From'] = sender_email\n",
    "    msg['To'] = receiver_email\n",
    "    msg['Subject'] = subject\n",
    "\n",
    "    body = f\"\"\"\n",
    "    <html>\n",
    "      <body>\n",
    "        <h3>New Data Appended to Delta Table</h3>\n",
    "        {html_table}\n",
    "      </body>\n",
    "    </html>\n",
    "    \"\"\"\n",
    "    msg.attach(MIMEText(body, 'html'))\n",
    "\n",
    "    try:\n",
    "        with smtplib.SMTP('smtp.gmail.com', 587) as server:\n",
    "            server.starttls()\n",
    "            server.login(sender_email, app_password)\n",
    "            server.send_message(msg)\n",
    "        print(\"✅ Email sent!\")\n",
    "    except Exception as e:\n",
    "        print(\"❌ Email failed:\", e)\n",
    "\n",
    "# Step 3: Get last 5 rows added & send email\n",
    "new_rows = delta_table.toDF().orderBy(\"Inserted_Timestamp\", ascending=False).limit(5)\n",
    "html_table = new_rows.toPandas().to_html(index=False, escape=False)\n",
    "send_email(\"Delta Append Notification\", html_table)"
   ]
  },
  {
   "cell_type": "code",
   "execution_count": 0,
   "metadata": {
    "application/vnd.databricks.v1+cell": {
     "cellMetadata": {
      "byteLimit": 2048000,
      "rowLimit": 10000
     },
     "inputWidgets": {},
     "nuid": "7d9e6292-8c6b-4287-b7a4-5d4329f1f992",
     "showTitle": false,
     "tableResultSettingsMap": {},
     "title": ""
    }
   },
   "outputs": [],
   "source": [
    "from delta.tables import DeltaTable\n",
    "delta_table = DeltaTable.forName(spark, \"fake_data_delta\")"
   ]
  },
  {
   "cell_type": "code",
   "execution_count": 0,
   "metadata": {
    "application/vnd.databricks.v1+cell": {
     "cellMetadata": {
      "byteLimit": 2048000,
      "rowLimit": 10000
     },
     "inputWidgets": {},
     "nuid": "bd614331-bada-49e3-a8e3-e281791bc880",
     "showTitle": false,
     "tableResultSettingsMap": {},
     "title": ""
    }
   },
   "outputs": [
    {
     "output_type": "stream",
     "name": "stdout",
     "output_type": "stream",
     "text": [
      "+-------+-------------------+--------------+--------------------+--------------------+--------------------+----+--------+--------------------+-----------+-----------------+-------------+--------------------+------------+--------------------+\n|version|          timestamp|        userId|            userName|           operation| operationParameters| job|notebook|           clusterId|readVersion|   isolationLevel|isBlindAppend|    operationMetrics|userMetadata|          engineInfo|\n+-------+-------------------+--------------+--------------------+--------------------+--------------------+----+--------+--------------------+-----------+-----------------+-------------+--------------------+------------+--------------------+\n|      3|2025-07-10 18:25:43|75174250834895|yamanrag.prakash@...|               WRITE|{mode -> Append, ...|NULL|    NULL|0710-104320-icmdx...|          2|WriteSerializable|         true|{numFiles -> 1, n...|        NULL|Databricks-Runtim...|\n|      2|2025-07-10 18:25:36|75174250834895|yamanrag.prakash@...|CREATE OR REPLACE...|{partitionBy -> [...|NULL|    NULL|0710-104320-icmdx...|          1|WriteSerializable|        false|{numFiles -> 1, n...|        NULL|Databricks-Runtim...|\n|      1|2025-07-10 18:25:04|75174250834895|yamanrag.prakash@...|               WRITE|{mode -> Append, ...|NULL|    NULL|0710-104320-icmdx...|          0|WriteSerializable|         true|{numFiles -> 1, n...|        NULL|Databricks-Runtim...|\n|      0|2025-07-10 18:24:08|75174250834895|yamanrag.prakash@...|CREATE OR REPLACE...|{partitionBy -> [...|NULL|    NULL|0710-104320-icmdx...|       NULL|WriteSerializable|        false|{numFiles -> 1, n...|        NULL|Databricks-Runtim...|\n+-------+-------------------+--------------+--------------------+--------------------+--------------------+----+--------+--------------------+-----------+-----------------+-------------+--------------------+------------+--------------------+\n\n"
     ]
    }
   ],
   "source": [
    "# Show Delta Table version history\n",
    "delta_table.history().show()"
   ]
  },
  {
   "cell_type": "code",
   "execution_count": 0,
   "metadata": {
    "application/vnd.databricks.v1+cell": {
     "cellMetadata": {
      "byteLimit": 2048000,
      "rowLimit": 10000
     },
     "inputWidgets": {},
     "nuid": "bfd2f8a5-e206-4e70-81fe-1043089f4135",
     "showTitle": false,
     "tableResultSettingsMap": {},
     "title": ""
    }
   },
   "outputs": [],
   "source": [
    "spark.conf.set(\"spark.sql.session.timeZone\", \"Asia/Kolkata\")"
   ]
  },
  {
   "cell_type": "code",
   "execution_count": 0,
   "metadata": {
    "application/vnd.databricks.v1+cell": {
     "cellMetadata": {
      "byteLimit": 2048000,
      "implicitDf": true,
      "rowLimit": 10000
     },
     "inputWidgets": {},
     "nuid": "302915db-12c5-42f0-a089-6c359bbb8d54",
     "showTitle": false,
     "tableResultSettingsMap": {},
     "title": ""
    }
   },
   "outputs": [],
   "source": [
    "%sql\n",
    "DROP TABLE IF EXISTS fake_data_delta"
   ]
  },
  {
   "cell_type": "code",
   "execution_count": 0,
   "metadata": {
    "application/vnd.databricks.v1+cell": {
     "cellMetadata": {
      "byteLimit": 2048000,
      "rowLimit": 10000
     },
     "inputWidgets": {},
     "nuid": "e882e23a-c78d-4400-ad21-14eca5ee436a",
     "showTitle": false,
     "tableResultSettingsMap": {},
     "title": ""
    }
   },
   "outputs": [],
   "source": [
    "from faker import Faker\n",
    "import pandas as pd\n",
    "from pyspark.sql.functions import current_timestamp\n",
    "\n",
    "fake = Faker()\n",
    "\n",
    "# Generate fake data\n",
    "data = [{\n",
    "    \"Name\": fake.name(),\n",
    "    \"Address\": fake.address(),\n",
    "    \"Email\": fake.email()\n",
    "} for _ in range(5)]\n",
    "\n",
    "df = pd.DataFrame(data)\n",
    "df_spark = spark.createDataFrame(df)\n",
    "\n",
    "# Add proper timestamp column\n",
    "df_spark = df_spark.withColumn(\"Inserted_Timestamp\", current_timestamp())\n",
    "\n",
    "# Overwrite the table with correct schema\n",
    "df_spark.write.format(\"delta\").mode(\"overwrite\").saveAsTable(\"fake_data_delta\")"
   ]
  },
  {
   "cell_type": "code",
   "execution_count": 0,
   "metadata": {
    "application/vnd.databricks.v1+cell": {
     "cellMetadata": {
      "byteLimit": 2048000,
      "rowLimit": 10000
     },
     "inputWidgets": {},
     "nuid": "d7f18e7f-1108-4a4c-a1b8-72a5a48e05f4",
     "showTitle": false,
     "tableResultSettingsMap": {},
     "title": ""
    }
   },
   "outputs": [],
   "source": [
    "from datetime import datetime\n",
    "\n",
    "def append_fake_data(n_rows=5):\n",
    "    data = [{\n",
    "        \"Name\": fake.name(),\n",
    "        \"Address\": fake.address(),\n",
    "        \"Email\": fake.email()\n",
    "    } for _ in range(n_rows)]\n",
    "\n",
    "    df = pd.DataFrame(data)\n",
    "    df_spark = spark.createDataFrame(df)\n",
    "\n",
    "    # Add timestamp only if not already present\n",
    "    if \"Inserted_Timestamp\" not in df_spark.columns:\n",
    "        df_spark = df_spark.withColumn(\"Inserted_Timestamp\", current_timestamp())\n",
    "\n",
    "    df_spark.write.format(\"delta\").mode(\"append\").saveAsTable(\"fake_data_delta\")\n",
    "    print(f\"{n_rows} fake rows appended at {datetime.now().strftime('%Y-%m-%d %H:%M:%S')}\")"
   ]
  },
  {
   "cell_type": "code",
   "execution_count": 0,
   "metadata": {
    "application/vnd.databricks.v1+cell": {
     "cellMetadata": {
      "byteLimit": 2048000,
      "rowLimit": 10000
     },
     "inputWidgets": {},
     "nuid": "03eddc3b-2580-475c-9593-1d4ff9523994",
     "showTitle": false,
     "tableResultSettingsMap": {},
     "title": ""
    }
   },
   "outputs": [
    {
     "output_type": "stream",
     "name": "stdout",
     "output_type": "stream",
     "text": [
      "5 fake rows appended at 2025-07-10 12:56:57\n"
     ]
    }
   ],
   "source": [
    "append_fake_data(5)"
   ]
  },
  {
   "cell_type": "code",
   "execution_count": 0,
   "metadata": {
    "application/vnd.databricks.v1+cell": {
     "cellMetadata": {},
     "inputWidgets": {},
     "nuid": "417b3e56-d8e4-47e9-9ca6-6e0cc06e7cf0",
     "showTitle": false,
     "tableResultSettingsMap": {},
     "title": ""
    }
   },
   "outputs": [],
   "source": []
  }
 ],
 "metadata": {
  "application/vnd.databricks.v1+notebook": {
   "computePreferences": null,
   "dashboards": [],
   "environmentMetadata": {
    "base_environment": "",
    "environment_version": "2"
   },
   "inputWidgetPreferences": null,
   "language": "python",
   "notebookMetadata": {
    "mostRecentlyExecutedCommandWithImplicitDF": {
     "commandId": 7046824586973356,
     "dataframes": [
      "_sqldf"
     ]
    },
    "pythonIndentUnit": 4
   },
   "notebookName": "Delta_Fake_Data",
   "widgets": {}
  },
  "language_info": {
   "name": "python"
  }
 },
 "nbformat": 4,
 "nbformat_minor": 0
}